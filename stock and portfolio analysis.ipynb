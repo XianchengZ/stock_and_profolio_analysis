{
 "cells": [
  {
   "cell_type": "markdown",
   "metadata": {},
   "source": [
    "implement the simple_return function\n",
    "implement the log_return function\n"
   ]
  },
  {
   "cell_type": "code",
   "execution_count": 1,
   "metadata": {},
   "outputs": [],
   "source": [
    "import numpy as np\n",
    "import pandas as pd\n",
    "import matplotlib.pyplot as plt\n",
    "import statsmodels.api as sm\n",
    "\n",
    "from scipy import stats\n",
    "from pandas_datareader import data as wb\n"
   ]
  },
  {
   "cell_type": "code",
   "execution_count": 2,
   "metadata": {},
   "outputs": [
    {
     "name": "stdout",
     "output_type": "stream",
     "text": [
      "Enter the stock ticker here: HZO\n"
     ]
    }
   ],
   "source": [
    "stock = input(\"Enter the stock ticker here: \")"
   ]
  },
  {
   "cell_type": "code",
   "execution_count": 3,
   "metadata": {},
   "outputs": [],
   "source": [
    "# simple_return() calculate the annualized simple return of a given stock ticker and use default starting date \n",
    "# as January first 2000 unless specified\n",
    "def simple_return(stock, first_date='2000-1-1'):\n",
    "    #stock = input(\"Enter the stock ticker here: \")\n",
    "    ticker = wb.DataReader(stock, data_source='yahoo', start = first_date)\n",
    "    ticker['Simple Return'] = (ticker['Adj Close'] / ticker['Adj Close'].shift(1)) - 1\n",
    "    annualized_annual_return = ticker['Simple Return'].mean() * 250\n",
    "    return annualized_annual_return\n",
    "    #print (str(round(annualized_annual_return, 4) * 100) + '%')"
   ]
  },
  {
   "cell_type": "code",
   "execution_count": 4,
   "metadata": {},
   "outputs": [
    {
     "data": {
      "text/plain": [
       "0.2726199385171205"
      ]
     },
     "execution_count": 4,
     "metadata": {},
     "output_type": "execute_result"
    }
   ],
   "source": [
    "# for testing “\n",
    "simple_return(stock)"
   ]
  },
  {
   "cell_type": "code",
   "execution_count": 5,
   "metadata": {},
   "outputs": [],
   "source": [
    "def log_return(stock, first_date='2000-1-1'):\n",
    "    ticker = wb.DataReader(stock, data_source='yahoo', start = first_date)\n",
    "    ticker['Log Return'] = np.log(ticker['Adj Close'] / ticker['Adj Close'].shift(1))\n",
    "    returns = ticker['Log Return']\n",
    "    annualized_log_return = ticker['Log Return'].mean() * 250\n",
    "    return annualized_log_return\n",
    "    #risk = returns.std() * 250 ** 0.5\n",
    "    #print('The annualized log return for {} is {}'.format(stock, str(round(annualized_log_return, 4) * 100) + '%'))\n",
    "    #print('The annualized risk for {} is {}'.format(stock, round(risk, 2)))"
   ]
  },
  {
   "cell_type": "code",
   "execution_count": 6,
   "metadata": {},
   "outputs": [
    {
     "data": {
      "text/plain": [
       "0.08628441285452326"
      ]
     },
     "execution_count": 6,
     "metadata": {},
     "output_type": "execute_result"
    }
   ],
   "source": [
    "log_return(stock)"
   ]
  },
  {
   "cell_type": "code",
   "execution_count": 7,
   "metadata": {},
   "outputs": [],
   "source": [
    "tickers = ['TD', 'BMO', 'HZO', 'COST']"
   ]
  },
  {
   "cell_type": "code",
   "execution_count": 8,
   "metadata": {},
   "outputs": [],
   "source": [
    "weight = np.array([0.25, 0.25, 0.25, 0.25])"
   ]
  },
  {
   "cell_type": "code",
   "execution_count": 9,
   "metadata": {},
   "outputs": [],
   "source": [
    "def portfolio_return(tickers, weight, start='2000-1-1'):\n",
    "    # printout the return of each stock\n",
    "    a = []\n",
    "    d = {}\n",
    "    for t in tickers:\n",
    "        s_r = simple_return(t, start)\n",
    "        a.append(s_r)\n",
    "        d[t] = str(round(s_r * 100, 2)) + '%'\n",
    "    data = pd.DataFrame(data=d, index=('return',))\n",
    "    print(data)\n",
    "    # generate the portfolio return at the same time with given weight of given stocks\n",
    "    weighted_return = np.dot(a, weight)\n",
    "    print(\"The Portfolio Return is {}\".format(str(round((weighted_return * 100), 2)) + '%'))"
   ]
  },
  {
   "cell_type": "code",
   "execution_count": 10,
   "metadata": {},
   "outputs": [
    {
     "name": "stdout",
     "output_type": "stream",
     "text": [
      "            TD     BMO     HZO    COST\n",
      "return  14.94%  15.89%  27.26%  15.52%\n",
      "The Portfolio Return is 18.41%\n"
     ]
    }
   ],
   "source": [
    "portfolio_return(tickers, weight)"
   ]
  },
  {
   "cell_type": "code",
   "execution_count": 11,
   "metadata": {},
   "outputs": [],
   "source": [
    "# there are two types of risks systematic risk and unsystematic risk\n",
    "# systematic risk aka non-diversifiable risk\n",
    "# this is the uncertainty that is characteristic of the entire market which is made of the day to day\n",
    "# changes in stock prices and is caused by events that affect all companies\n",
    "# unsystematic risk aka diversible risk\n",
    "# which is company-specific, even industry-specific, risks that can be smoothed out through diversification"
   ]
  },
  {
   "cell_type": "code",
   "execution_count": 12,
   "metadata": {},
   "outputs": [],
   "source": [
    "def portfolio_risk(tickers, weight, start='2000-1-1'):\n",
    "    d = pd.DataFrame()\n",
    "    w_range = np.size(weight)\n",
    "    for t in tickers:\n",
    "        d[t] = wb.DataReader(t, data_source='yahoo',start=start)['Adj Close']\n",
    "    returns = np.log(d/d.shift(1))\n",
    "    annual_var = []\n",
    "    for t in tickers:\n",
    "        individual_var = returns[t].var() * 250\n",
    "        annual_var.append(individual_var)\n",
    "    pfolio_var = np.dot(weight.T, np.dot(returns.cov() * 250, weight))\n",
    "    d_risk = pfolio_var\n",
    "    for i in range(w_range):\n",
    "        d_risk -= (weight[i] ** 2 * annual_var[i])\n",
    "    print(\"The diversifiable risk is {}\".format(str(round(d_risk * 100, 3)) + '%'))\n",
    "    # we now calculate the unsystematic risk\n",
    "    nd_risk = pfolio_var - d_risk\n",
    "    print(\"The non-diversifiable risk is {}\".format(str(round(nd_risk * 100, 3)) + '%'))"
   ]
  },
  {
   "cell_type": "code",
   "execution_count": 13,
   "metadata": {},
   "outputs": [
    {
     "name": "stdout",
     "output_type": "stream",
     "text": [
      "The diversifiable risk is 2.991%\n",
      "The non-diversifiable risk is 3.623%\n"
     ]
    }
   ],
   "source": [
    "# test case:\n",
    "portfolio_risk(tickers, weight)"
   ]
  },
  {
   "cell_type": "code",
   "execution_count": 14,
   "metadata": {},
   "outputs": [],
   "source": [
    "# OLS regression for two variables x and y"
   ]
  },
  {
   "cell_type": "code",
   "execution_count": 15,
   "metadata": {},
   "outputs": [],
   "source": [
    "def regression_analysis(x, y):\n",
    "    slope, intercept, r_value, p_value, std_err = stats.linregress(x, y)\n",
    "    print(\"The beta for this regression is {}\".format(slope))\n",
    "    print(\"The alpha for this regression is {}\".format(intercept))\n",
    "    print(\"The R squared for this regression is {}\".format(r_value ** 2))\n",
    "    print(\"The p value for this regression is {}\".format(p_value))\n",
    "    print(\"The standard error for this regression is {}\".format(std_err))"
   ]
  },
  {
   "cell_type": "code",
   "execution_count": 16,
   "metadata": {},
   "outputs": [],
   "source": [
    "# Markowitz Theory and Efficient Frontier"
   ]
  },
  {
   "cell_type": "code",
   "execution_count": 17,
   "metadata": {},
   "outputs": [],
   "source": [
    "def markowitz(assets):\n",
    "    pf_data = pd.DataFrame()\n",
    "    for a in assets:\n",
    "        pf_data[a] = wb.DataReader(a, data_source ='yahoo', start='2010-1-1')['Adj Close']\n",
    "    \n",
    "    num_assets = len(assets)\n",
    "    pfolio_returns = []\n",
    "    pfolio_volatilities = []\n",
    "    \n",
    "    log_returns = np.log(pf_data / pf_data.shift(1))\n",
    "    \n",
    "\n",
    "    for x in range (1000):\n",
    "        weights = np.random.random(num_assets)\n",
    "        weights /= np.sum(weights)\n",
    "        pfolio_returns.append(np.sum(weights * log_returns.mean()) * 250)\n",
    "        pfolio_volatilities.append(np.sqrt(np.dot(weights.T,np.dot(log_returns.cov() * 250, weights))))\n",
    "    \n",
    "    pfolio_returns = np.array(pfolio_returns)\n",
    "    pfolio_volatilities = np.array(pfolio_volatilities)\n",
    "    \n",
    "    portfolios = pd.DataFrame({'Return': pfolio_returns, 'Volatility': pfolio_volatilities})\n",
    "    \n",
    "    portfolios.plot(x='Volatility', y='Return', kind='scatter', figsize=(10, 6));\n",
    "    plt.xlabel('Expected Volatility')\n",
    "    plt.ylabel('Expected Return')"
   ]
  },
  {
   "cell_type": "code",
   "execution_count": 18,
   "metadata": {},
   "outputs": [
    {
     "data": {
      "image/png": "[encoded data removed]",
      "text/plain": [
       "<Figure size 720x432 with 1 Axes>"
      ]
     },
     "metadata": {
      "needs_background": "light"
     },
     "output_type": "display_data"
    }
   ],
   "source": [
    "assets = ['PG', '^GSPC']\n",
    "markowitz(assets)"
   ]
  },
  {
   "cell_type": "code",
   "execution_count": 19,
   "metadata": {},
   "outputs": [],
   "source": [
    "#beta\n",
    "# it shows the relationship between a stock and the market\n",
    "# 0 means no relationship, < 1 means defensive and > 1 means aggressive"
   ]
  },
  {
   "cell_type": "code",
   "execution_count": 20,
   "metadata": {},
   "outputs": [],
   "source": [
    "def beta_coef(x, y):\n",
    "    data = pd.DataFrame()\n",
    "    tickers=[x, y]\n",
    "    for t in tickers:\n",
    "        data[t] = wb.DataReader(t, data_source='yahoo', start='2012-1-1', end='2016-12-31')['Adj Close'] \n",
    "        \n",
    "    sec_returns = np.log( data / data.shift(1) )    \n",
    "    cov = sec_returns.cov() * 250\n",
    "    cov_with_market = cov.iloc[0,1]\n",
    "    market_var = sec_returns[y].var() * 250\n",
    "    beta = cov_with_market / market_var\n",
    "#     print('the beta for {} is {}'.format(x, beta))\n",
    "#     if beta == 0:\n",
    "#         print('the stock shows no relationship with the market')\n",
    "#     elif beta > 1:\n",
    "#         print('the stock shows an aggressive relationship with the market')\n",
    "#     elif beta < 1:\n",
    "#         print('the stock shows an defensive relationship with the market')\n",
    "    return beta"
   ]
  },
  {
   "cell_type": "code",
   "execution_count": 21,
   "metadata": {},
   "outputs": [
    {
     "data": {
      "text/plain": [
       "0.6159581469557908"
      ]
     },
     "execution_count": 21,
     "metadata": {},
     "output_type": "execute_result"
    }
   ],
   "source": [
    "beta_coef('PG','^GSPC')"
   ]
  },
  {
   "cell_type": "code",
   "execution_count": 22,
   "metadata": {},
   "outputs": [],
   "source": [
    "#CAPM Model"
   ]
  },
  {
   "cell_type": "code",
   "execution_count": 23,
   "metadata": {},
   "outputs": [],
   "source": [
    "def capm(stock, market_i, ten_y_rate, risk_premium):\n",
    "    beta = float(beta_coef(stock, market_i))\n",
    "    capm = ten_y_rate * beta * risk_premium\n",
    "    return capm"
   ]
  },
  {
   "cell_type": "code",
   "execution_count": 24,
   "metadata": {},
   "outputs": [],
   "source": [
    "# sharpe ratio higher means better"
   ]
  },
  {
   "cell_type": "code",
   "execution_count": 25,
   "metadata": {},
   "outputs": [],
   "source": [
    "def sharpe(stock, market_i, ten_y_rate, risk_premium,first_date='2000-1-1'):\n",
    "    sec_return = simple_return(stock, first_date) ** 0.5\n",
    "    expected_r = capm(stock, market_i, ten_y_rate, risk_premium)\n",
    "    sharpe = (expected_r - ten_y_rate) / (sec_return)\n",
    "    return sharpe"
   ]
  },
  {
   "cell_type": "code",
   "execution_count": 26,
   "metadata": {},
   "outputs": [
    {
     "data": {
      "text/plain": [
       "-0.07898681850901397"
      ]
     },
     "execution_count": 26,
     "metadata": {},
     "output_type": "execute_result"
    }
   ],
   "source": [
    "sharpe('PG', '^GSPC', 0.025, 0.05)"
   ]
  },
  {
   "cell_type": "code",
   "execution_count": 27,
   "metadata": {},
   "outputs": [],
   "source": [
    "# the black sholes formula calculates the value of a call by taking the difference between the amount you get \n",
    "# if you exercise the option minus the amount you have to pay if you exercise the option."
   ]
  },
  {
   "cell_type": "code",
   "execution_count": 28,
   "metadata": {},
   "outputs": [],
   "source": [
    "def BSM(S, K, r, stdev, T):\n",
    "        return (S * stats.norm.cdf(d1(S, K, r, stdev, T))) - (K * np.exp(-r * T) * stats.norm.cdf(d2(S, K, r, stdev, T)))"
   ]
  },
  {
   "cell_type": "code",
   "execution_count": 29,
   "metadata": {},
   "outputs": [],
   "source": [
    "ticker = 'PG'  \n",
    "data = pd.DataFrame()  \n",
    "data[ticker] = wb.DataReader(ticker, data_source='yahoo', start='2007-1-1', end='2017-3-21')['Adj Close']"
   ]
  },
  {
   "cell_type": "code",
   "execution_count": 30,
   "metadata": {},
   "outputs": [
    {
     "data": {
      "text/plain": [
       "PG    80.71093\n",
       "Name: 2017-03-21 00:00:00, dtype: float64"
      ]
     },
     "execution_count": 30,
     "metadata": {},
     "output_type": "execute_result"
    }
   ],
   "source": [
    "S = data.iloc[-1]\n",
    "S"
   ]
  },
  {
   "cell_type": "code",
   "execution_count": 31,
   "metadata": {},
   "outputs": [],
   "source": [
    "log_returns = np.log(1 + data.pct_change())"
   ]
  },
  {
   "cell_type": "code",
   "execution_count": 32,
   "metadata": {},
   "outputs": [
    {
     "data": {
      "text/plain": [
       "PG    0.17655\n",
       "dtype: float64"
      ]
     },
     "execution_count": 32,
     "metadata": {},
     "output_type": "execute_result"
    }
   ],
   "source": [
    "stdev = log_returns.std() * 250 ** 0.5\n",
    "stdev"
   ]
  },
  {
   "cell_type": "code",
   "execution_count": 33,
   "metadata": {},
   "outputs": [],
   "source": [
    "r = 0.025\n",
    "K = 110.0\n",
    "T = 1"
   ]
  },
  {
   "cell_type": "code",
   "execution_count": 34,
   "metadata": {},
   "outputs": [],
   "source": [
    "def d1(S, K, r, stdev, T):\n",
    "    return (np.log(S / K) + (r + stdev ** 2 / 2) * T) / (stdev * np.sqrt(T))\n",
    " \n",
    "def d2(S, K, r, stdev, T):\n",
    "    return (np.log(S / K) + (r - stdev ** 2 / 2) * T) / (stdev * np.sqrt(T))"
   ]
  },
  {
   "cell_type": "code",
   "execution_count": 35,
   "metadata": {},
   "outputs": [
    {
     "data": {
      "text/plain": [
       "PG   -1.523767\n",
       "dtype: float64"
      ]
     },
     "execution_count": 35,
     "metadata": {},
     "output_type": "execute_result"
    }
   ],
   "source": [
    "d1(S, K, r, stdev, T)"
   ]
  },
  {
   "cell_type": "code",
   "execution_count": 36,
   "metadata": {},
   "outputs": [
    {
     "data": {
      "text/plain": [
       "PG   -1.700317\n",
       "dtype: float64"
      ]
     },
     "execution_count": 36,
     "metadata": {},
     "output_type": "execute_result"
    }
   ],
   "source": [
    "d2(S, K, r, stdev, T)"
   ]
  },
  {
   "cell_type": "code",
   "execution_count": 37,
   "metadata": {},
   "outputs": [
    {
     "data": {
      "text/plain": [
       "PG    0.370057\n",
       "Name: 2017-03-21 00:00:00, dtype: float64"
      ]
     },
     "execution_count": 37,
     "metadata": {},
     "output_type": "execute_result"
    }
   ],
   "source": [
    "BSM(S, K, r, stdev, T)"
   ]
  }
 ],
 "metadata": {
  "kernelspec": {
   "display_name": "Python 3",
   "language": "python",
   "name": "python3"
  },
  "language_info": {
   "codemirror_mode": {
    "name": "ipython",
    "version": 3
   },
   "file_extension": ".py",
   "mimetype": "text/x-python",
   "name": "python",
   "nbconvert_exporter": "python",
   "pygments_lexer": "ipython3",
   "version": "3.8.8"
  }
 },
 "nbformat": 4,
 "nbformat_minor": 4
}
